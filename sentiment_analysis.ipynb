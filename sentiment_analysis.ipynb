{
 "cells": [
  {
   "cell_type": "code",
   "execution_count": 1,
   "id": "de68597f",
   "metadata": {},
   "outputs": [],
   "source": [
    "import pandas as pd\n",
    "#import spacy\n",
    "import re\n",
    "import numpy as np\n",
    "import nltk\n",
    "import string\n",
    "from nltk.tokenize import word_tokenize\n",
    "from pprint import pprint\n",
    "from nltk.corpus import stopwords\n",
    "from nltk.stem import WordNetLemmatizer\n",
    "from nltk.tokenize import word_tokenize\n",
    "from nltk.stem import PorterStemmer\n",
    "from nltk.tokenize import word_tokenize"
   ]
  },
  {
   "cell_type": "code",
   "execution_count": 2,
   "id": "dd9c10d4",
   "metadata": {},
   "outputs": [],
   "source": [
    "df = pd.read_csv(\"D:\\\\Data_Science\\\\Datasets\\\\Kaggle_data\\\\sentiment_analysis\\\\amazon_alexa.tsv\",sep='\\t')"
   ]
  },
  {
   "cell_type": "code",
   "execution_count": 3,
   "id": "35192c68",
   "metadata": {},
   "outputs": [
    {
     "name": "stdout",
     "output_type": "stream",
     "text": [
      "0                                           love my echo!\n",
      "1                                               loved it!\n",
      "2       sometimes while playing a game, you can answer...\n",
      "3       i have had a lot of fun with this thing. my 4 ...\n",
      "4                                                   music\n",
      "                              ...                        \n",
      "3145    perfect for kids, adults and everyone in betwe...\n",
      "3146    listening to music, searching locations, check...\n",
      "3147    i do love these things, i have them running my...\n",
      "3148    only complaint i have is that the sound qualit...\n",
      "3149                                                 good\n",
      "Name: verified_reviews, Length: 3150, dtype: object\n"
     ]
    }
   ],
   "source": [
    "corpus_lower = df['verified_reviews'].str.lower()\n",
    "print(corpus_lower)"
   ]
  },
  {
   "cell_type": "code",
   "execution_count": 5,
   "id": "3370a352",
   "metadata": {},
   "outputs": [],
   "source": [
    "corpus_new = []\n",
    "for x in corpus_lower :\n",
    "    corpus_new.append(re.sub(r'\\d+', ' ',x)) "
   ]
  },
  {
   "cell_type": "code",
   "execution_count": 6,
   "id": "734029c3",
   "metadata": {},
   "outputs": [
    {
     "name": "stdout",
     "output_type": "stream",
     "text": [
      "{'he', 'are', 'will', 'through', 'any', 'herself', 't', 'an', 'm', 'such', 'nor', 'to', \"haven't\", \"you'd\", 'on', \"it's\", \"weren't\", 'shan', 'only', 'not', 'too', 'these', 'was', 'or', 'weren', 'mustn', 'in', 're', \"wasn't\", 'from', 'until', 'doing', 'himself', 'ourselves', 'for', 'during', 'whom', 'both', 'very', 'no', 'own', 'it', 'the', 'off', 'their', 'than', 'does', 'had', 'if', 'between', 'couldn', 'you', 'this', 'do', 'more', 'by', 'aren', 'against', 'she', \"won't\", 'don', 'i', 'with', \"that'll\", 'why', 'won', 'hasn', 'shouldn', 'below', 'when', 'what', 'above', 'here', 'how', 'there', 'other', 'been', 'some', 'doesn', 'we', 'my', 'and', 'after', 'having', 'y', 'have', 'theirs', 'of', 'being', 'll', 'same', 'about', 'itself', 'be', 'mightn', 'd', 'because', 'them', 'themselves', 'has', 'were', 'a', 'should', \"couldn't\", 'needn', \"shan't\", \"shouldn't\", 'hadn', 'wouldn', 'into', 'her', 'yours', \"hasn't\", 'which', 'up', 'just', 'while', 'most', 'before', 'is', 'down', 'can', 'yourself', 'so', 'few', \"needn't\", 'who', 'then', 'o', 'hers', 'where', 'haven', 'his', \"don't\", 'as', 'once', \"hadn't\", 'our', 'those', 'yourselves', \"isn't\", 'wasn', \"should've\", \"you'll\", 'all', 'ain', 'did', 'its', 'ours', \"didn't\", 'myself', \"you've\", 'isn', 'ma', 'that', \"doesn't\", 'but', 'am', \"aren't\", 'me', 've', 'at', 'didn', 'out', \"mustn't\", \"you're\", 's', \"wouldn't\", 'now', 'they', 'again', 'over', 'under', \"she's\", 'each', \"mightn't\", 'him', 'further', 'your'}\n"
     ]
    }
   ],
   "source": [
    "sw_nltk = set(stopwords.words('english'))\n",
    "print(sw_nltk)"
   ]
  },
  {
   "cell_type": "code",
   "execution_count": 7,
   "id": "b75e5837",
   "metadata": {},
   "outputs": [],
   "source": [
    "corpus_1 = []\n",
    "for x in corpus_new:\n",
    "    corpus_1.append(x.translate(str.maketrans(\"\", \"\", string.punctuation)))"
   ]
  },
  {
   "cell_type": "code",
   "execution_count": 8,
   "id": "bcc0d036",
   "metadata": {},
   "outputs": [],
   "source": [
    "corpus_new = corpus_1\n",
    "del(corpus_1)"
   ]
  },
  {
   "cell_type": "code",
   "execution_count": 9,
   "id": "a8d1547f",
   "metadata": {},
   "outputs": [],
   "source": [
    "tokenize_corpus_nltk = []\n",
    "for x in corpus_new:\n",
    "    tokenize_corpus_nltk.append(word_tokenize(x))"
   ]
  },
  {
   "cell_type": "code",
   "execution_count": 10,
   "id": "e822d6a7",
   "metadata": {},
   "outputs": [],
   "source": [
    "df['tokenize'] = pd.Series(tokenize_corpus_nltk)"
   ]
  },
  {
   "cell_type": "code",
   "execution_count": 11,
   "id": "17a628da",
   "metadata": {},
   "outputs": [
    {
     "data": {
      "text/plain": [
       "0                                        [love, my, echo]\n",
       "1                                             [loved, it]\n",
       "2       [sometimes, while, playing, a, game, you, can,...\n",
       "3       [i, have, had, a, lot, of, fun, with, this, th...\n",
       "4                                                 [music]\n",
       "                              ...                        \n",
       "3145    [perfect, for, kids, adults, and, everyone, in...\n",
       "3146    [listening, to, music, searching, locations, c...\n",
       "3147    [i, do, love, these, things, i, have, them, ru...\n",
       "3148    [only, complaint, i, have, is, that, the, soun...\n",
       "3149                                               [good]\n",
       "Name: tokenize, Length: 3150, dtype: object"
      ]
     },
     "execution_count": 11,
     "metadata": {},
     "output_type": "execute_result"
    }
   ],
   "source": [
    "df['tokenize']"
   ]
  },
  {
   "cell_type": "code",
   "execution_count": 12,
   "id": "4b1e4ee8",
   "metadata": {},
   "outputs": [
    {
     "name": "stdout",
     "output_type": "stream",
     "text": [
      "{'he', 'are', 'will', 'through', 'any', 'herself', 't', 'an', 'm', 'such', 'nor', 'to', \"haven't\", \"you'd\", 'on', \"it's\", \"weren't\", 'shan', 'only', 'not', 'too', 'these', 'was', 'or', 'weren', 'mustn', 'in', 're', \"wasn't\", 'from', 'until', 'doing', 'himself', 'ourselves', 'for', 'during', 'whom', 'both', 'very', 'no', 'own', 'it', 'the', 'off', 'their', 'than', 'does', 'had', 'if', 'between', 'couldn', 'you', 'this', 'do', 'more', 'by', 'aren', 'against', 'she', \"won't\", 'don', 'i', 'with', \"that'll\", 'why', 'won', 'hasn', 'shouldn', 'below', 'when', 'what', 'above', 'here', 'how', 'there', 'other', 'been', 'some', 'doesn', 'we', 'my', 'and', 'after', 'having', 'y', 'have', 'theirs', 'of', 'being', 'll', 'same', 'about', 'itself', 'be', 'mightn', 'd', 'because', 'them', 'themselves', 'has', 'were', 'a', 'should', \"couldn't\", 'needn', \"shan't\", \"shouldn't\", 'hadn', 'wouldn', 'into', 'her', 'yours', \"hasn't\", 'which', 'up', 'just', 'while', 'most', 'before', 'is', 'down', 'can', 'yourself', 'so', 'few', \"needn't\", 'who', 'then', 'o', 'hers', 'where', 'haven', 'his', \"don't\", 'as', 'once', \"hadn't\", 'our', 'those', 'yourselves', \"isn't\", 'wasn', \"should've\", \"you'll\", 'all', 'ain', 'did', 'its', 'ours', \"didn't\", 'myself', \"you've\", 'isn', 'ma', 'that', \"doesn't\", 'but', 'am', \"aren't\", 'me', 've', 'at', 'didn', 'out', \"mustn't\", \"you're\", 's', \"wouldn't\", 'now', 'they', 'again', 'over', 'under', \"she's\", 'each', \"mightn't\", 'him', 'further', 'your'}\n"
     ]
    }
   ],
   "source": [
    "sw_nltk = set(stopwords.words('english'))\n",
    "print(sw_nltk)"
   ]
  },
  {
   "cell_type": "code",
   "execution_count": 13,
   "id": "65521369",
   "metadata": {},
   "outputs": [
    {
     "data": {
      "text/plain": [
       "0                                        [love, my, echo]\n",
       "1                                             [loved, it]\n",
       "2       [sometimes, while, playing, a, game, you, can,...\n",
       "3       [i, have, had, a, lot, of, fun, with, this, th...\n",
       "4                                                 [music]\n",
       "                              ...                        \n",
       "3145    [perfect, for, kids, adults, and, everyone, in...\n",
       "3146    [listening, to, music, searching, locations, c...\n",
       "3147    [i, do, love, these, things, i, have, them, ru...\n",
       "3148    [only, complaint, i, have, is, that, the, soun...\n",
       "3149                                               [good]\n",
       "Name: tokenize, Length: 3150, dtype: object"
      ]
     },
     "execution_count": 13,
     "metadata": {},
     "output_type": "execute_result"
    }
   ],
   "source": [
    "def remove_stop(corpus):\n",
    "    for x in sw_nltk:\n",
    "        if x not in corpus:\n",
    "            return corpus\n",
    "        else:\n",
    "            corpus.remove(x)\n",
    "            return corpus\n",
    "\n",
    "df['tokenize'].apply(remove_stop)\n",
    "    "
   ]
  },
  {
   "cell_type": "code",
   "execution_count": 15,
   "id": "c95c01d4",
   "metadata": {},
   "outputs": [],
   "source": [
    "def porter_stem(corpus):\n",
    "    porter_stemmed=[]\n",
    "    stemmer=PorterStemmer()\n",
    "    \n",
    "    for x in corpus:\n",
    "        porter_stemmed.append(stemmer.stem(x))\n",
    "    return porter_stemmed\n",
    "\n",
    "df['porter_stemmed'] = df['tokenize'].apply(porter_stem)"
   ]
  },
  {
   "cell_type": "code",
   "execution_count": 16,
   "id": "53f40dba",
   "metadata": {},
   "outputs": [
    {
     "data": {
      "text/plain": [
       "0                                        [love, my, echo]\n",
       "1                                              [love, it]\n",
       "2       [sometim, while, play, a, game, you, can, answ...\n",
       "3       [i, have, had, a, lot, of, fun, with, thi, thi...\n",
       "4                                                 [music]\n",
       "                              ...                        \n",
       "3145    [perfect, for, kid, adult, and, everyon, in, b...\n",
       "3146    [listen, to, music, search, locat, check, time...\n",
       "3147    [i, do, love, these, thing, i, have, them, run...\n",
       "3148    [onli, complaint, i, have, is, that, the, soun...\n",
       "3149                                               [good]\n",
       "Name: porter_stemmed, Length: 3150, dtype: object"
      ]
     },
     "execution_count": 16,
     "metadata": {},
     "output_type": "execute_result"
    }
   ],
   "source": [
    "df['porter_stemmed']"
   ]
  },
  {
   "cell_type": "code",
   "execution_count": 17,
   "id": "61a640a5",
   "metadata": {},
   "outputs": [
    {
     "name": "stderr",
     "output_type": "stream",
     "text": [
      "[nltk_data] Downloading package omw-1.4 to\n",
      "[nltk_data]     C:\\Users\\dakha\\AppData\\Roaming\\nltk_data...\n",
      "[nltk_data]   Package omw-1.4 is already up-to-date!\n"
     ]
    }
   ],
   "source": [
    "nltk.download ('omw-1.4')\n",
    "def lemetizing(corpus):\n",
    "    lemetized_list=[]\n",
    "    lemm = WordNetLemmatizer()\n",
    "    for x in corpus:\n",
    "        lemetized_list.append(lemm.lemmatize(x))\n",
    "    return lemetized_list\n",
    "\n",
    "df['lemetized'] = df['tokenize'].apply(lemetizing)"
   ]
  },
  {
   "cell_type": "code",
   "execution_count": 18,
   "id": "80d03905",
   "metadata": {},
   "outputs": [
    {
     "data": {
      "text/html": [
       "<div>\n",
       "<style scoped>\n",
       "    .dataframe tbody tr th:only-of-type {\n",
       "        vertical-align: middle;\n",
       "    }\n",
       "\n",
       "    .dataframe tbody tr th {\n",
       "        vertical-align: top;\n",
       "    }\n",
       "\n",
       "    .dataframe thead th {\n",
       "        text-align: right;\n",
       "    }\n",
       "</style>\n",
       "<table border=\"1\" class=\"dataframe\">\n",
       "  <thead>\n",
       "    <tr style=\"text-align: right;\">\n",
       "      <th></th>\n",
       "      <th>rating</th>\n",
       "      <th>date</th>\n",
       "      <th>variation</th>\n",
       "      <th>verified_reviews</th>\n",
       "      <th>feedback</th>\n",
       "      <th>tokenize</th>\n",
       "      <th>porter_stemmed</th>\n",
       "      <th>lemetized</th>\n",
       "    </tr>\n",
       "  </thead>\n",
       "  <tbody>\n",
       "    <tr>\n",
       "      <th>0</th>\n",
       "      <td>5</td>\n",
       "      <td>31-Jul-18</td>\n",
       "      <td>Charcoal Fabric</td>\n",
       "      <td>Love my Echo!</td>\n",
       "      <td>1</td>\n",
       "      <td>[love, my, echo]</td>\n",
       "      <td>[love, my, echo]</td>\n",
       "      <td>[love, my, echo]</td>\n",
       "    </tr>\n",
       "    <tr>\n",
       "      <th>1</th>\n",
       "      <td>5</td>\n",
       "      <td>31-Jul-18</td>\n",
       "      <td>Charcoal Fabric</td>\n",
       "      <td>Loved it!</td>\n",
       "      <td>1</td>\n",
       "      <td>[loved, it]</td>\n",
       "      <td>[love, it]</td>\n",
       "      <td>[loved, it]</td>\n",
       "    </tr>\n",
       "    <tr>\n",
       "      <th>2</th>\n",
       "      <td>4</td>\n",
       "      <td>31-Jul-18</td>\n",
       "      <td>Walnut Finish</td>\n",
       "      <td>Sometimes while playing a game, you can answer...</td>\n",
       "      <td>1</td>\n",
       "      <td>[sometimes, while, playing, a, game, you, can,...</td>\n",
       "      <td>[sometim, while, play, a, game, you, can, answ...</td>\n",
       "      <td>[sometimes, while, playing, a, game, you, can,...</td>\n",
       "    </tr>\n",
       "    <tr>\n",
       "      <th>3</th>\n",
       "      <td>5</td>\n",
       "      <td>31-Jul-18</td>\n",
       "      <td>Charcoal Fabric</td>\n",
       "      <td>I have had a lot of fun with this thing. My 4 ...</td>\n",
       "      <td>1</td>\n",
       "      <td>[i, have, had, a, lot, of, fun, with, this, th...</td>\n",
       "      <td>[i, have, had, a, lot, of, fun, with, thi, thi...</td>\n",
       "      <td>[i, have, had, a, lot, of, fun, with, this, th...</td>\n",
       "    </tr>\n",
       "    <tr>\n",
       "      <th>4</th>\n",
       "      <td>5</td>\n",
       "      <td>31-Jul-18</td>\n",
       "      <td>Charcoal Fabric</td>\n",
       "      <td>Music</td>\n",
       "      <td>1</td>\n",
       "      <td>[music]</td>\n",
       "      <td>[music]</td>\n",
       "      <td>[music]</td>\n",
       "    </tr>\n",
       "    <tr>\n",
       "      <th>...</th>\n",
       "      <td>...</td>\n",
       "      <td>...</td>\n",
       "      <td>...</td>\n",
       "      <td>...</td>\n",
       "      <td>...</td>\n",
       "      <td>...</td>\n",
       "      <td>...</td>\n",
       "      <td>...</td>\n",
       "    </tr>\n",
       "    <tr>\n",
       "      <th>3145</th>\n",
       "      <td>5</td>\n",
       "      <td>30-Jul-18</td>\n",
       "      <td>Black  Dot</td>\n",
       "      <td>Perfect for kids, adults and everyone in betwe...</td>\n",
       "      <td>1</td>\n",
       "      <td>[perfect, for, kids, adults, and, everyone, in...</td>\n",
       "      <td>[perfect, for, kid, adult, and, everyon, in, b...</td>\n",
       "      <td>[perfect, for, kid, adult, and, everyone, in, ...</td>\n",
       "    </tr>\n",
       "    <tr>\n",
       "      <th>3146</th>\n",
       "      <td>5</td>\n",
       "      <td>30-Jul-18</td>\n",
       "      <td>Black  Dot</td>\n",
       "      <td>Listening to music, searching locations, check...</td>\n",
       "      <td>1</td>\n",
       "      <td>[listening, to, music, searching, locations, c...</td>\n",
       "      <td>[listen, to, music, search, locat, check, time...</td>\n",
       "      <td>[listening, to, music, searching, location, ch...</td>\n",
       "    </tr>\n",
       "    <tr>\n",
       "      <th>3147</th>\n",
       "      <td>5</td>\n",
       "      <td>30-Jul-18</td>\n",
       "      <td>Black  Dot</td>\n",
       "      <td>I do love these things, i have them running my...</td>\n",
       "      <td>1</td>\n",
       "      <td>[i, do, love, these, things, i, have, them, ru...</td>\n",
       "      <td>[i, do, love, these, thing, i, have, them, run...</td>\n",
       "      <td>[i, do, love, these, thing, i, have, them, run...</td>\n",
       "    </tr>\n",
       "    <tr>\n",
       "      <th>3148</th>\n",
       "      <td>5</td>\n",
       "      <td>30-Jul-18</td>\n",
       "      <td>White  Dot</td>\n",
       "      <td>Only complaint I have is that the sound qualit...</td>\n",
       "      <td>1</td>\n",
       "      <td>[only, complaint, i, have, is, that, the, soun...</td>\n",
       "      <td>[onli, complaint, i, have, is, that, the, soun...</td>\n",
       "      <td>[only, complaint, i, have, is, that, the, soun...</td>\n",
       "    </tr>\n",
       "    <tr>\n",
       "      <th>3149</th>\n",
       "      <td>4</td>\n",
       "      <td>29-Jul-18</td>\n",
       "      <td>Black  Dot</td>\n",
       "      <td>Good</td>\n",
       "      <td>1</td>\n",
       "      <td>[good]</td>\n",
       "      <td>[good]</td>\n",
       "      <td>[good]</td>\n",
       "    </tr>\n",
       "  </tbody>\n",
       "</table>\n",
       "<p>3150 rows × 8 columns</p>\n",
       "</div>"
      ],
      "text/plain": [
       "      rating       date         variation  \\\n",
       "0          5  31-Jul-18  Charcoal Fabric    \n",
       "1          5  31-Jul-18  Charcoal Fabric    \n",
       "2          4  31-Jul-18    Walnut Finish    \n",
       "3          5  31-Jul-18  Charcoal Fabric    \n",
       "4          5  31-Jul-18  Charcoal Fabric    \n",
       "...      ...        ...               ...   \n",
       "3145       5  30-Jul-18        Black  Dot   \n",
       "3146       5  30-Jul-18        Black  Dot   \n",
       "3147       5  30-Jul-18        Black  Dot   \n",
       "3148       5  30-Jul-18        White  Dot   \n",
       "3149       4  29-Jul-18        Black  Dot   \n",
       "\n",
       "                                       verified_reviews  feedback  \\\n",
       "0                                         Love my Echo!         1   \n",
       "1                                             Loved it!         1   \n",
       "2     Sometimes while playing a game, you can answer...         1   \n",
       "3     I have had a lot of fun with this thing. My 4 ...         1   \n",
       "4                                                 Music         1   \n",
       "...                                                 ...       ...   \n",
       "3145  Perfect for kids, adults and everyone in betwe...         1   \n",
       "3146  Listening to music, searching locations, check...         1   \n",
       "3147  I do love these things, i have them running my...         1   \n",
       "3148  Only complaint I have is that the sound qualit...         1   \n",
       "3149                                               Good         1   \n",
       "\n",
       "                                               tokenize  \\\n",
       "0                                      [love, my, echo]   \n",
       "1                                           [loved, it]   \n",
       "2     [sometimes, while, playing, a, game, you, can,...   \n",
       "3     [i, have, had, a, lot, of, fun, with, this, th...   \n",
       "4                                               [music]   \n",
       "...                                                 ...   \n",
       "3145  [perfect, for, kids, adults, and, everyone, in...   \n",
       "3146  [listening, to, music, searching, locations, c...   \n",
       "3147  [i, do, love, these, things, i, have, them, ru...   \n",
       "3148  [only, complaint, i, have, is, that, the, soun...   \n",
       "3149                                             [good]   \n",
       "\n",
       "                                         porter_stemmed  \\\n",
       "0                                      [love, my, echo]   \n",
       "1                                            [love, it]   \n",
       "2     [sometim, while, play, a, game, you, can, answ...   \n",
       "3     [i, have, had, a, lot, of, fun, with, thi, thi...   \n",
       "4                                               [music]   \n",
       "...                                                 ...   \n",
       "3145  [perfect, for, kid, adult, and, everyon, in, b...   \n",
       "3146  [listen, to, music, search, locat, check, time...   \n",
       "3147  [i, do, love, these, thing, i, have, them, run...   \n",
       "3148  [onli, complaint, i, have, is, that, the, soun...   \n",
       "3149                                             [good]   \n",
       "\n",
       "                                              lemetized  \n",
       "0                                      [love, my, echo]  \n",
       "1                                           [loved, it]  \n",
       "2     [sometimes, while, playing, a, game, you, can,...  \n",
       "3     [i, have, had, a, lot, of, fun, with, this, th...  \n",
       "4                                               [music]  \n",
       "...                                                 ...  \n",
       "3145  [perfect, for, kid, adult, and, everyone, in, ...  \n",
       "3146  [listening, to, music, searching, location, ch...  \n",
       "3147  [i, do, love, these, thing, i, have, them, run...  \n",
       "3148  [only, complaint, i, have, is, that, the, soun...  \n",
       "3149                                             [good]  \n",
       "\n",
       "[3150 rows x 8 columns]"
      ]
     },
     "execution_count": 18,
     "metadata": {},
     "output_type": "execute_result"
    }
   ],
   "source": [
    "df"
   ]
  },
  {
   "cell_type": "code",
   "execution_count": 19,
   "id": "517158e2",
   "metadata": {},
   "outputs": [
    {
     "name": "stderr",
     "output_type": "stream",
     "text": [
      "[nltk_data] Downloading package averaged_perceptron_tagger to\n",
      "[nltk_data]     C:\\Users\\dakha\\AppData\\Roaming\\nltk_data...\n",
      "[nltk_data]   Unzipping taggers\\averaged_perceptron_tagger.zip.\n"
     ]
    },
    {
     "name": "stdout",
     "output_type": "stream",
     "text": [
      "POS Tagging using NLTK:\n"
     ]
    }
   ],
   "source": [
    "nltk.download('averaged_perceptron_tagger')\n",
    "print(\"POS Tagging using NLTK:\")"
   ]
  },
  {
   "cell_type": "code",
   "execution_count": 20,
   "id": "89aa1169",
   "metadata": {},
   "outputs": [
    {
     "data": {
      "text/plain": [
       "'3.6.1'"
      ]
     },
     "execution_count": 20,
     "metadata": {},
     "output_type": "execute_result"
    }
   ],
   "source": [
    "nltk.__version__"
   ]
  },
  {
   "cell_type": "code",
   "execution_count": null,
   "id": "c4f184f2",
   "metadata": {},
   "outputs": [],
   "source": []
  }
 ],
 "metadata": {
  "kernelspec": {
   "display_name": "Python 3",
   "language": "python",
   "name": "python3"
  },
  "language_info": {
   "codemirror_mode": {
    "name": "ipython",
    "version": 3
   },
   "file_extension": ".py",
   "mimetype": "text/x-python",
   "name": "python",
   "nbconvert_exporter": "python",
   "pygments_lexer": "ipython3",
   "version": "3.8.8"
  }
 },
 "nbformat": 4,
 "nbformat_minor": 5
}
